{
 "cells": [
  {
   "cell_type": "code",
   "execution_count": 13,
   "id": "61dd80fb",
   "metadata": {},
   "outputs": [],
   "source": [
    "from prefect import flow, task\n",
    "import pandas as pd\n",
    "import numpy as np\n",
    "import scipy\n",
    "import sklearn\n",
    "from sklearn.feature_extraction import DictVectorizer\n",
    "import mlflow\n",
    "import mlflow.sklearn\n",
    "import pickle\n",
    "import os"
   ]
  },
  {
   "cell_type": "code",
   "execution_count": 3,
   "id": "decffd0e",
   "metadata": {},
   "outputs": [],
   "source": [
    "# Let's read the march 2023 data\n",
    "filename = \"../data/yellow_tripdata_2023-03.parquet\"\n",
    "df = pd.read_parquet(filename)\n"
   ]
  },
  {
   "cell_type": "code",
   "execution_count": 4,
   "id": "cb0ec5cf",
   "metadata": {},
   "outputs": [
    {
     "name": "stdout",
     "output_type": "stream",
     "text": [
      "3403766\n"
     ]
    }
   ],
   "source": [
    "\n",
    "print(len(df))"
   ]
  },
  {
   "cell_type": "code",
   "execution_count": 5,
   "id": "1fde4136",
   "metadata": {},
   "outputs": [],
   "source": [
    "@task(retries=3, retry_delay_seconds=2)\n",
    "def read_dataframe(filename):\n",
    "    df = pd.read_parquet(filename)\n",
    "\n",
    "    df['duration'] = df.tpep_dropoff_datetime - df.tpep_pickup_datetime\n",
    "    df.duration = df.duration.dt.total_seconds() / 60\n",
    "\n",
    "    df = df[(df.duration >= 1) & (df.duration <= 60)]\n",
    "\n",
    "    categorical = ['PULocationID', 'DOLocationID']\n",
    "    df[categorical] = df[categorical].astype(str)\n",
    "    \n",
    "    return df"
   ]
  },
  {
   "cell_type": "code",
   "execution_count": 6,
   "id": "4cac94b3",
   "metadata": {},
   "outputs": [
    {
     "data": {
      "text/html": [
       "<pre style=\"white-space:pre;overflow-x:auto;line-height:normal;font-family:Menlo,'DejaVu Sans Mono',consolas,'Courier New',monospace\">15:23:48.670 | <span style=\"color: #008080; text-decoration-color: #008080\">INFO</span>    | Task run 'read_dataframe' - Finished in state <span style=\"color: #008000; text-decoration-color: #008000\">Completed</span>()\n",
       "</pre>\n"
      ],
      "text/plain": [
       "15:23:48.670 | \u001b[36mINFO\u001b[0m    | Task run 'read_dataframe' - Finished in state \u001b[32mCompleted\u001b[0m()\n"
      ]
     },
     "metadata": {},
     "output_type": "display_data"
    },
    {
     "name": "stdout",
     "output_type": "stream",
     "text": [
      "3316216\n"
     ]
    }
   ],
   "source": [
    "df = read_dataframe(filename)\n",
    "print(len(df))"
   ]
  },
  {
   "cell_type": "code",
   "execution_count": 12,
   "id": "44f9d9af",
   "metadata": {},
   "outputs": [
    {
     "data": {
      "text/plain": [
       "Index(['VendorID', 'tpep_pickup_datetime', 'tpep_dropoff_datetime',\n",
       "       'passenger_count', 'trip_distance', 'RatecodeID', 'store_and_fwd_flag',\n",
       "       'PULocationID', 'DOLocationID', 'payment_type', 'fare_amount', 'extra',\n",
       "       'mta_tax', 'tip_amount', 'tolls_amount', 'improvement_surcharge',\n",
       "       'total_amount', 'congestion_surcharge', 'Airport_fee', 'duration'],\n",
       "      dtype='object')"
      ]
     },
     "execution_count": 12,
     "metadata": {},
     "output_type": "execute_result"
    }
   ],
   "source": [
    "df.columns"
   ]
  },
  {
   "cell_type": "code",
   "execution_count": 7,
   "id": "ea31b24c",
   "metadata": {},
   "outputs": [],
   "source": [
    "from typing import Tuple\n",
    "from sklearn.linear_model import LinearRegression\n",
    "import scipy.sparse\n",
    "\n",
    "@task\n",
    "def train_model(\n",
    "    df_train: pd.DataFrame\n",
    ") -> Tuple[LinearRegression, DictVectorizer]:\n",
    "    \n",
    "    categorical = ['PULocationID', 'DOLocationID']\n",
    "    dv = DictVectorizer()\n",
    "\n",
    "    train_dicts = df_train[categorical].to_dict(orient=\"records\")\n",
    "    X_train = dv.fit_transform(train_dicts)\n",
    "    X_train = scipy.sparse.csr_matrix(X_train)  # Ensure type is csr_matrix\n",
    "\n",
    "    y_train = df_train[\"duration\"].to_numpy()\n",
    "\n",
    "    model = LinearRegression()\n",
    "    model.fit(X_train, y_train)\n",
    "\n",
    "    # print the intercept\n",
    "    print(f\"Intercept: {model.intercept_}\")\n",
    " \n",
    "    return model, dv"
   ]
  },
  {
   "cell_type": "code",
   "execution_count": 8,
   "id": "937340e8",
   "metadata": {},
   "outputs": [
    {
     "name": "stdout",
     "output_type": "stream",
     "text": [
      "Intercept: 24.776420921142414\n"
     ]
    },
    {
     "data": {
      "text/html": [
       "<pre style=\"white-space:pre;overflow-x:auto;line-height:normal;font-family:Menlo,'DejaVu Sans Mono',consolas,'Courier New',monospace\">15:24:56.984 | <span style=\"color: #008080; text-decoration-color: #008080\">INFO</span>    | Task run 'train_model' - Finished in state <span style=\"color: #008000; text-decoration-color: #008000\">Completed</span>()\n",
       "</pre>\n"
      ],
      "text/plain": [
       "15:24:56.984 | \u001b[36mINFO\u001b[0m    | Task run 'train_model' - Finished in state \u001b[32mCompleted\u001b[0m()\n"
      ]
     },
     "metadata": {},
     "output_type": "display_data"
    }
   ],
   "source": [
    "model, dv = train_model(df)"
   ]
  },
  {
   "cell_type": "code",
   "execution_count": null,
   "id": "cc6bf913",
   "metadata": {},
   "outputs": [
    {
     "name": "stderr",
     "output_type": "stream",
     "text": [
      "2025/06/11 15:36:22 WARNING mlflow.utils.environment: Failed to resolve installed pip version. ``pip`` will be added to conda.yaml environment spec without a version specifier.\n",
      "\u001b[31m2025/06/11 15:36:22 WARNING mlflow.models.model: Model logged without a signature and input example. Please set `input_example` parameter when logging the model to auto infer the model signature.\u001b[0m\n",
      "Registered model 'nyc-taxi-duration-predictor' already exists. Creating a new version of this model...\n",
      "Created version '3' of model 'nyc-taxi-duration-predictor'.\n",
      "INFO  [prefect.task_runs] Finished in state Completed()\n"
     ]
    },
    {
     "name": "stdout",
     "output_type": "stream",
     "text": [
      "Model registered in run 283391d17a0a45fda252d16633f84234\n"
     ]
    }
   ],
   "source": [
    "@task\n",
    "def register_mlflow_model(\n",
    "    model: LinearRegression, \n",
    "    dv: DictVectorizer, \n",
    "    model_name: str = \"nyc-taxi-duration-predictor\"\n",
    "):\n",
    "    with mlflow.start_run() as run:\n",
    "\n",
    "        # Log the sklearn model\n",
    "        mlflow.sklearn.log_model(\n",
    "            sk_model=model,\n",
    "            name=\"linear-regression-model\",\n",
    "            registered_model_name=model_name,\n",
    "        )\n",
    "\n",
    "        # Save and log the DictVectorizer as an artifact\n",
    "        dv_path = \"dict_vectorizer.pkl\"\n",
    "        with open(dv_path, \"wb\") as f_out:\n",
    "            pickle.dump(dv, f_out)\n",
    "        mlflow.log_artifact(dv_path, artifact_path=\"preprocessor\")\n",
    "        os.remove(dv_path)\n",
    "\n",
    "        mlflow.set_tag(\"model_name\", model_name)\n",
    "        print(f\"Model registered in run {run.info.run_id}\")\n",
    "    return run.info.run_id\n",
    "\n",
    "register_mlflow_model(model, dv, model_name=\"nyc-taxi-duration-predictor\")"
   ]
  },
  {
   "cell_type": "code",
   "execution_count": 14,
   "id": "d7104907",
   "metadata": {},
   "outputs": [],
   "source": [
    "@flow\n",
    "def main(\n",
    "    filename: str = \"../data/yellow_tripdata_2023-03.parquet\"\n",
    "):\n",
    "\n",
    "    # MLflow settings\n",
    "    mlflow.set_tracking_uri(\"sqlite:///mlflow.db\")\n",
    "    mlflow.set_experiment(\"nyc-taxi-experiment\")\n",
    "\n",
    "    # Read the data\n",
    "    print(f\"Reading data from {filename}\")\n",
    "    print(\"Starting the flow...\")\n",
    "    df = read_dataframe(filename)\n",
    "\n",
    "    # Train the model\n",
    "    print(\"Training the model...\")\n",
    "    print(f\"Number of records in the dataframe: {len(df)}\")\n",
    "    print(f\"Columns in the dataframe: {df.columns.tolist()}\")\n",
    "    print(\"Training the model...\")\n",
    "    print(\"Model training started...\")\n",
    "    model, dv = train_model(df)\n",
    "\n",
    "    # Register the model\n",
    "    print(\"Registering the model with MLflow...\")\n",
    "    print(f\"Model name: nyc-taxi-duration-predictor\")\n",
    "    print(\"Model registration in progress...\")\n",
    "    print(\"Saving the model and DictVectorizer...\")\n",
    "    print(\"Model and DictVectorizer saved successfully.\")\n",
    "    run_id = register_mlflow_model(model, dv, model_name=\"nyc-taxi-duration-predictor\")\n",
    "    print(f\"Model registered with run ID: {run_id}\")\n"
   ]
  },
  {
   "cell_type": "code",
   "execution_count": 15,
   "id": "e45887d6",
   "metadata": {},
   "outputs": [
    {
     "name": "stderr",
     "output_type": "stream",
     "text": [
      "INFO  [prefect.flow_runs] Beginning flow run 'eccentric-reindeer' for flow 'main'\n",
      "INFO  [prefect.flow_runs] View at http://127.0.0.1:4200/runs/flow-run/6dd4b299-ae9b-4da4-afea-f41c1ccc793c\n"
     ]
    },
    {
     "name": "stdout",
     "output_type": "stream",
     "text": [
      "Reading data from ../data/yellow_tripdata_2023-03.parquet\n",
      "Starting the flow...\n"
     ]
    },
    {
     "name": "stderr",
     "output_type": "stream",
     "text": [
      "INFO  [prefect.task_runs] Finished in state Completed()\n"
     ]
    },
    {
     "name": "stdout",
     "output_type": "stream",
     "text": [
      "Training the model...\n",
      "Number of records in the dataframe: 3316216\n",
      "Columns in the dataframe: ['VendorID', 'tpep_pickup_datetime', 'tpep_dropoff_datetime', 'passenger_count', 'trip_distance', 'RatecodeID', 'store_and_fwd_flag', 'PULocationID', 'DOLocationID', 'payment_type', 'fare_amount', 'extra', 'mta_tax', 'tip_amount', 'tolls_amount', 'improvement_surcharge', 'total_amount', 'congestion_surcharge', 'Airport_fee', 'duration']\n",
      "Training the model...\n",
      "Model training started...\n"
     ]
    },
    {
     "name": "stderr",
     "output_type": "stream",
     "text": [
      "INFO  [prefect.task_runs] Finished in state Completed()\n"
     ]
    },
    {
     "name": "stdout",
     "output_type": "stream",
     "text": [
      "Intercept: 24.776420921142414\n",
      "Registering the model with MLflow...\n",
      "Model name: nyc-taxi-duration-predictor\n",
      "Model registration in progress...\n",
      "Saving the model and DictVectorizer...\n",
      "Model and DictVectorizer saved successfully.\n"
     ]
    },
    {
     "name": "stderr",
     "output_type": "stream",
     "text": [
      "2025/06/11 15:43:47 WARNING mlflow.utils.environment: Failed to resolve installed pip version. ``pip`` will be added to conda.yaml environment spec without a version specifier.\n",
      "\u001b[31m2025/06/11 15:43:47 WARNING mlflow.models.model: Model logged without a signature and input example. Please set `input_example` parameter when logging the model to auto infer the model signature.\u001b[0m\n",
      "Registered model 'nyc-taxi-duration-predictor' already exists. Creating a new version of this model...\n",
      "Created version '4' of model 'nyc-taxi-duration-predictor'.\n",
      "INFO  [prefect.task_runs] Finished in state Completed()\n",
      "INFO  [prefect.flow_runs] Finished in state Completed()\n"
     ]
    },
    {
     "name": "stdout",
     "output_type": "stream",
     "text": [
      "Model registered in run 1dbfb9ed6da546178940a4bb86b357e9\n",
      "Model registered with run ID: 1dbfb9ed6da546178940a4bb86b357e9\n",
      "Flow completed successfully.\n"
     ]
    }
   ],
   "source": [
    "if __name__ == \"__main__\":\n",
    "    main()\n",
    "    print(\"Flow completed successfully.\")"
   ]
  }
 ],
 "metadata": {
  "kernelspec": {
   "display_name": ".venv",
   "language": "python",
   "name": "python3"
  },
  "language_info": {
   "codemirror_mode": {
    "name": "ipython",
    "version": 3
   },
   "file_extension": ".py",
   "mimetype": "text/x-python",
   "name": "python",
   "nbconvert_exporter": "python",
   "pygments_lexer": "ipython3",
   "version": "3.12.1"
  }
 },
 "nbformat": 4,
 "nbformat_minor": 5
}
